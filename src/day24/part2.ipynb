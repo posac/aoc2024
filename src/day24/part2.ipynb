{
 "cells": [
  {
   "cell_type": "code",
   "id": "initial_id",
   "metadata": {
    "collapsed": true
   },
   "source": [
    "%pip install networkx\n",
    "%pip install nxpd\n",
    "%pip install numpy\n",
    "%pip install matplotlib\n",
    "%pip install pyvis\n",
    "%pip install scipy\n"
   ],
   "outputs": [],
   "execution_count": null
  },
  {
   "metadata": {},
   "cell_type": "code",
   "source": [
    "import networkx as nx\n",
    "import matplotlib\n",
    "import re\n",
    "from pyvis.network import Network"
   ],
   "id": "55240f6923d865dc",
   "outputs": [],
   "execution_count": null
  },
  {
   "metadata": {},
   "cell_type": "code",
   "source": "# file= \"..\"",
   "id": "df1472400a9a270a",
   "outputs": [],
   "execution_count": null
  },
  {
   "metadata": {},
   "cell_type": "code",
   "source": [
    "with open('/Users/michal.posacki/git/aoc2024/resources/Day24/input.txt') as f:\n",
    "    data = f.readlines()"
   ],
   "id": "64c17bed6310e03b",
   "outputs": [],
   "execution_count": null
  },
  {
   "metadata": {},
   "cell_type": "code",
   "source": [
    "G = nx.DiGraph()\n",
    "labels = {}\n",
    "XOR = 0\n",
    "OR = 1\n",
    "AND = 2\n",
    "for it in data[91:]:\n",
    "    left, operation, right, result = re.match(r'(\\w+) (\\w+) (\\w+) -> (\\w+)', it).groups()\n",
    "    print(left, operation, right, result)\n",
    "    if operation == 'AND':\n",
    "        op_value = AND\n",
    "    elif operation == 'OR':\n",
    "        op_value = OR\n",
    "    elif operation == 'XOR':\n",
    "        op_value = XOR\n",
    "    else:\n",
    "        raise Exception(f'Unknown operation: {operation}')\n",
    "\n",
    "    G.add_edge(left, result, weight=op_value)\n",
    "    G.add_edge(right, result, weight=op_value)\n",
    "    labels[(left, result)] = f'{operation} {right}'\n",
    "    labels[(right, result)] = f'{operation} {left}'\n",
    "\n",
    "\n"
   ],
   "id": "ef601809443d463e",
   "outputs": [],
   "execution_count": null
  },
  {
   "metadata": {},
   "cell_type": "code",
   "source": [
    "G.graph['dpi'] = 5000\n",
    "# pos = nx.spring_layout(G)\n",
    "# nx.draw_networkx_edge_labels(\n",
    "#     G, pos,\n",
    "#     edge_labels=labels,\n",
    "#     font_color='red'\n",
    "# )\n",
    "%matplotlib inline\n",
    "\n",
    "# fig = matplotlib.pyplot.figure(dpi=200,figsize=(100, 80))\n",
    "# nx.draw(G, ax=fig.add_subplot())\n",
    "# nx.draw_planar(G, ax=fig.add_subplot())\n",
    "# if True:\n",
    "#     Save plot to file\n",
    "# matplotlib.use(\"Agg\")\n",
    "# fig.savefig(\"graph.png\")\n",
    "# else:\n",
    "# Display interactive viewer\n",
    "# matplotlib.pyplot.show()\n",
    "\n",
    "def fetch_connected_nodes(G, node, seen=None):\n",
    "    if seen == None:\n",
    "        seen = set([node])\n",
    "    for neighbor in G.neighbors(node):\n",
    "        print(neighbor)\n",
    "        if neighbor not in seen:\n",
    "            seen.add(neighbor)\n",
    "            fetch_connected_nodes(G, neighbor, seen)\n",
    "    return seen\n",
    "# G = nx.complete_graph(G)\n",
    "\n",
    "\n",
    "\n",
    "nx.draw_planar(nx.bfs_tree(G, \"z02\"), with_labels=True)"
   ],
   "id": "e1d515dd455eeb37",
   "outputs": [],
   "execution_count": null
  },
  {
   "metadata": {},
   "cell_type": "code",
   "source": [
    "net = Network(\n",
    "    directed = True,\n",
    "    select_menu = True, # Show part 1 in the plot (optional)\n",
    "    filter_menu = True, # Show part 2 in the plot (optional)\n",
    ")\n",
    "net.show_buttons() # Show part 3 in the plot (optional)\n",
    "net.from_nx(G) # Create directly from nx graph\n",
    "net.show('test.html', notebook=False) # Show in the notebook"
   ],
   "id": "dd1ee85310632cb9",
   "outputs": [],
   "execution_count": null
  },
  {
   "metadata": {},
   "cell_type": "code",
   "source": "plot_node(\"z04\", fetch_connected_nodes(G, \"z03\"))",
   "id": "faaf209491297e82",
   "outputs": [],
   "execution_count": null
  },
  {
   "metadata": {},
   "cell_type": "code",
   "source": [
    "plot_node(\"z05\", fetch_connected_nodes(G, \"z04\"))\n",
    "# vsb and ktw -> fcv later used ind or\n"
   ],
   "id": "4d172aeff32801fa",
   "outputs": [],
   "execution_count": null
  },
  {
   "metadata": {},
   "cell_type": "code",
   "source": "','.join(sorted(max(nx.algorithms.clique.find_cliques(G), key=len)))",
   "id": "54dec5c8791375df",
   "outputs": [],
   "execution_count": null
  },
  {
   "metadata": {},
   "cell_type": "code",
   "source": "plot_node(\"vmc\", fetch_connected_nodes(G, \"z04\"))",
   "id": "db53e7486088bc4d",
   "outputs": [],
   "execution_count": null
  }
 ],
 "metadata": {
  "kernelspec": {
   "display_name": "Python 3",
   "language": "python",
   "name": "python3"
  },
  "language_info": {
   "codemirror_mode": {
    "name": "ipython",
    "version": 2
   },
   "file_extension": ".py",
   "mimetype": "text/x-python",
   "name": "python",
   "nbconvert_exporter": "python",
   "pygments_lexer": "ipython2",
   "version": "2.7.6"
  }
 },
 "nbformat": 4,
 "nbformat_minor": 5
}
